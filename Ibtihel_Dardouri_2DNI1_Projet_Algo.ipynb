{
 "cells": [
  {
   "cell_type": "code",
   "execution_count": 91,
   "metadata": {},
   "outputs": [],
   "source": [
    "def CaseLibre(tab, ligne, colonne,N):\n",
    "    for i in range(colonne): \n",
    "        if tab[ligne][i] == 1: \n",
    "            return False\n",
    "  \n",
    "   # on vérifie la diagonale supérieure du côté gauche\n",
    "    i = ligne\n",
    "    j = colonne\n",
    "    while i >= 0 and j >= 0:\n",
    "        if(tab[i][j]):\n",
    "            return False;\n",
    "        i -= 1\n",
    "        j -= 1\n",
    " \n",
    "    # on vérifie la diagonale inférieure sur le côté gauche\n",
    "    i = ligne\n",
    "    j = colonne\n",
    "    while j >= 0 and i < N:\n",
    "        if(tab[i][j]):\n",
    "            return False\n",
    "        i = i + 1\n",
    "        j = j - 1\n",
    " \n",
    "    return True"
   ]
  },
  {
   "cell_type": "markdown",
   "metadata": {},
   "source": [
    "**=> j'ai défini une fonction appelée \"CaseLibre\" permettant de vérifier si une reine peut être placé dans le tableau (tab[i][j]) ou non**"
   ]
  },
  {
   "cell_type": "code",
   "execution_count": 92,
   "metadata": {},
   "outputs": [],
   "source": [
    "def placer_reines(tab, colonne,N): \n",
    "    # si on dépasse la taille du tableau \n",
    "    #donc toutes les reines sont placées et par conséquences elle retourne vrai. \n",
    "    if colonne >= N: \n",
    "        return True\n",
    "  \n",
    "    # j'essaie de placer la reine dans toutes les rangées une par une \n",
    "    for i in range(N): \n",
    "  \n",
    "        if CaseLibre(tab, i, colonne,N): \n",
    "            # si la case est libre je place la reine dans le tableau\n",
    "            tab[i][colonne] = 1\n",
    "  \n",
    "            # à l'aide de la méthode récursive je place le reste des reines  \n",
    "            if placer_reines(tab, colonne + 1 , N) == True: \n",
    "                return True\n",
    "  \n",
    "        \n",
    "            tab[i][colonne] = 0\n",
    "  \n",
    "    # s'il n y'a pas de possibilité pour placer la reine elle retourne faux \n",
    "    return False\n"
   ]
  },
  {
   "cell_type": "code",
   "execution_count": 93,
   "metadata": {},
   "outputs": [
    {
     "name": "stdout",
     "output_type": "stream",
     "text": [
      "Entrer la taille du tableau :9\n",
      "1 0 0 0 0 0 0 0 0 \n",
      "0 0 0 0 1 0 0 0 0 \n",
      "0 1 0 0 0 0 0 0 0 \n",
      "0 0 0 0 0 1 0 0 0 \n",
      "0 0 0 0 0 0 0 0 1 \n",
      "0 0 1 0 0 0 0 0 0 \n",
      "0 0 0 0 0 0 0 1 0 \n",
      "0 0 0 1 0 0 0 0 0 \n",
      "0 0 0 0 0 0 1 0 0 \n"
     ]
    }
   ],
   "source": [
    "N= int (input('Entrer la taille du tableau :'))\n",
    "tab = [[0 for j in range (N) ] for i in range(N)]\n",
    "if placer_reines(tab, 0,N) == True :\n",
    "    for i in range (N) :\n",
    "        for j in range(N) :\n",
    "            print(tab[i][j] ,  end=\" \")\n",
    "        print()\n",
    "else :\n",
    "    print('not possible')"
   ]
  },
  {
   "cell_type": "code",
   "execution_count": null,
   "metadata": {},
   "outputs": [],
   "source": []
  },
  {
   "cell_type": "code",
   "execution_count": null,
   "metadata": {},
   "outputs": [],
   "source": []
  }
 ],
 "metadata": {
  "kernelspec": {
   "display_name": "Python 3",
   "language": "python",
   "name": "python3"
  },
  "language_info": {
   "codemirror_mode": {
    "name": "ipython",
    "version": 3
   },
   "file_extension": ".py",
   "mimetype": "text/x-python",
   "name": "python",
   "nbconvert_exporter": "python",
   "pygments_lexer": "ipython3",
   "version": "3.8.3"
  }
 },
 "nbformat": 4,
 "nbformat_minor": 4
}
